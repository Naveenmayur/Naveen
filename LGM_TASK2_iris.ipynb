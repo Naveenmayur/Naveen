{
  "nbformat": 4,
  "nbformat_minor": 5,
  "metadata": {
    "kernelspec": {
      "display_name": "Python 3",
      "language": "python",
      "name": "python3"
    },
    "language_info": {
      "codemirror_mode": {
        "name": "ipython",
        "version": 3
      },
      "file_extension": ".py",
      "mimetype": "text/x-python",
      "name": "python",
      "nbconvert_exporter": "python",
      "pygments_lexer": "ipython3",
      "version": "3.8.11"
    },
    "colab": {
      "name": "LGM_TASK2_iris.ipynb",
      "provenance": [],
      "include_colab_link": true
    }
  },
  "cells": [
    {
      "cell_type": "markdown",
      "metadata": {
        "id": "view-in-github",
        "colab_type": "text"
      },
      "source": [
        "<a href=\"https://colab.research.google.com/github/Naveenmayur/Naveen/blob/main/LGM_TASK2_iris.ipynb\" target=\"_parent\"><img src=\"https://colab.research.google.com/assets/colab-badge.svg\" alt=\"Open In Colab\"/></a>"
      ]
    },
    {
      "cell_type": "markdown",
      "metadata": {
        "id": "9680aab4"
      },
      "source": [
        "# **LET'S GROW MORE** : **DATA SCIENCE VIRTUAL INTERNSHIP PROGRAM**"
      ],
      "id": "9680aab4"
    },
    {
      "cell_type": "markdown",
      "metadata": {
        "id": "39d6df47"
      },
      "source": [
        "# **Author:** **Naveen Mayur KR**"
      ],
      "id": "39d6df47"
    },
    {
      "cell_type": "markdown",
      "metadata": {
        "id": "373a9af8"
      },
      "source": [
        "#**Intermediate Level Task 2**"
      ],
      "id": "373a9af8"
    },
    {
      "cell_type": "code",
      "metadata": {
        "id": "61e16ff5"
      },
      "source": [
        "\n",
        "import numpy as np # linear algebra\n",
        "import pandas as pd # data processing, CSV file I/O (e.g. pd.read_csv)\n",
        "import seaborn as sns\n",
        "import matplotlib.pyplot as plt\n",
        "# Input data files are available in the \"../input/\" directory.\n",
        "# For example, running this (by clicking run or pressing Shift+Enter) will list the files in the input directory\n",
        "\n"
      ],
      "id": "61e16ff5",
      "execution_count": null,
      "outputs": []
    },
    {
      "cell_type": "code",
      "metadata": {
        "id": "620a702f"
      },
      "source": [
        "iris = pd.read_csv(\"Iris.csv\")"
      ],
      "id": "620a702f",
      "execution_count": null,
      "outputs": []
    },
    {
      "cell_type": "code",
      "metadata": {
        "id": "06ccfe06",
        "outputId": "0766db8e-20c7-47ea-a3ff-2208a44b28ff"
      },
      "source": [
        "iris.head(2)"
      ],
      "id": "06ccfe06",
      "execution_count": null,
      "outputs": [
        {
          "data": {
            "text/html": [
              "<div>\n",
              "<style scoped>\n",
              "    .dataframe tbody tr th:only-of-type {\n",
              "        vertical-align: middle;\n",
              "    }\n",
              "\n",
              "    .dataframe tbody tr th {\n",
              "        vertical-align: top;\n",
              "    }\n",
              "\n",
              "    .dataframe thead th {\n",
              "        text-align: right;\n",
              "    }\n",
              "</style>\n",
              "<table border=\"1\" class=\"dataframe\">\n",
              "  <thead>\n",
              "    <tr style=\"text-align: right;\">\n",
              "      <th></th>\n",
              "      <th>Id</th>\n",
              "      <th>SepalLengthCm</th>\n",
              "      <th>SepalWidthCm</th>\n",
              "      <th>PetalLengthCm</th>\n",
              "      <th>PetalWidthCm</th>\n",
              "      <th>Species</th>\n",
              "    </tr>\n",
              "  </thead>\n",
              "  <tbody>\n",
              "    <tr>\n",
              "      <th>0</th>\n",
              "      <td>1</td>\n",
              "      <td>5.1</td>\n",
              "      <td>3.5</td>\n",
              "      <td>1.4</td>\n",
              "      <td>0.2</td>\n",
              "      <td>Iris-setosa</td>\n",
              "    </tr>\n",
              "    <tr>\n",
              "      <th>1</th>\n",
              "      <td>2</td>\n",
              "      <td>4.9</td>\n",
              "      <td>3.0</td>\n",
              "      <td>1.4</td>\n",
              "      <td>0.2</td>\n",
              "      <td>Iris-setosa</td>\n",
              "    </tr>\n",
              "  </tbody>\n",
              "</table>\n",
              "</div>"
            ],
            "text/plain": [
              "   Id  SepalLengthCm  SepalWidthCm  PetalLengthCm  PetalWidthCm      Species\n",
              "0   1            5.1           3.5            1.4           0.2  Iris-setosa\n",
              "1   2            4.9           3.0            1.4           0.2  Iris-setosa"
            ]
          },
          "execution_count": 5,
          "metadata": {},
          "output_type": "execute_result"
        }
      ]
    },
    {
      "cell_type": "code",
      "metadata": {
        "id": "79887b02",
        "outputId": "c03c6277-6d1f-4bd5-a586-61e32e13cb81"
      },
      "source": [
        "iris.info()"
      ],
      "id": "79887b02",
      "execution_count": null,
      "outputs": [
        {
          "name": "stdout",
          "output_type": "stream",
          "text": [
            "<class 'pandas.core.frame.DataFrame'>\n",
            "RangeIndex: 150 entries, 0 to 149\n",
            "Data columns (total 6 columns):\n",
            " #   Column         Non-Null Count  Dtype  \n",
            "---  ------         --------------  -----  \n",
            " 0   Id             150 non-null    int64  \n",
            " 1   SepalLengthCm  150 non-null    float64\n",
            " 2   SepalWidthCm   150 non-null    float64\n",
            " 3   PetalLengthCm  150 non-null    float64\n",
            " 4   PetalWidthCm   150 non-null    float64\n",
            " 5   Species        150 non-null    object \n",
            "dtypes: float64(4), int64(1), object(1)\n",
            "memory usage: 7.2+ KB\n"
          ]
        }
      ]
    },
    {
      "cell_type": "code",
      "metadata": {
        "id": "a34e1640"
      },
      "source": [
        "iris.drop('Id',axis=1,inplace=True)"
      ],
      "id": "a34e1640",
      "execution_count": null,
      "outputs": []
    },
    {
      "cell_type": "markdown",
      "metadata": {
        "id": "d5402d1c"
      },
      "source": [
        "# Some Exploratory Data Analysis With Iris"
      ],
      "id": "d5402d1c"
    },
    {
      "cell_type": "code",
      "metadata": {
        "id": "c094864a",
        "outputId": "57f26038-5c6f-4e9e-bc89-26eb8517a718"
      },
      "source": [
        "fig = iris[iris.Species=='Iris-setosa'].plot(kind='scatter',x='SepalLengthCm',y='SepalWidthCm',color='orange', label='Setosa')\n",
        "iris[iris.Species=='Iris-versicolor'].plot(kind='scatter',x='SepalLengthCm',y='SepalWidthCm',color='blue', label='versicolor',ax=fig)\n",
        "iris[iris.Species=='Iris-virginica'].plot(kind='scatter',x='SepalLengthCm',y='SepalWidthCm',color='green', label='virginica', ax=fig)\n",
        "fig.set_xlabel(\"Sepal Length\")\n",
        "fig.set_ylabel(\"Sepal Width\")\n",
        "fig.set_title(\"Sepal Length VS Width\")\n",
        "fig=plt.gcf()\n",
        "fig.set_size_inches(10,6)\n",
        "plt.show()"
      ],
      "id": "c094864a",
      "execution_count": null,
      "outputs": [
        {
          "data": {
            "image/png": "[encoded data removed]",
            "text/plain": [
              "<Figure size 720x432 with 1 Axes>"
            ]
          },
          "metadata": {
            "needs_background": "light"
          },
          "output_type": "display_data"
        }
      ]
    },
    {
      "cell_type": "markdown",
      "metadata": {
        "id": "29aa8f63"
      },
      "source": [
        "The above graph shows relationship between the sepal length and width. Now we will check relationship between the petal length and width."
      ],
      "id": "29aa8f63"
    },
    {
      "cell_type": "code",
      "metadata": {
        "id": "19ec7d62",
        "outputId": "5c020889-8945-47ad-dde4-d83c0cd4dbfc"
      },
      "source": [
        "fig = iris[iris.Species=='Iris-setosa'].plot.scatter(x='PetalLengthCm',y='PetalWidthCm',color='orange', label='Setosa')\n",
        "iris[iris.Species=='Iris-versicolor'].plot.scatter(x='PetalLengthCm',y='PetalWidthCm',color='blue', label='versicolor',ax=fig)\n",
        "iris[iris.Species=='Iris-virginica'].plot.scatter(x='PetalLengthCm',y='PetalWidthCm',color='green', label='virginica', ax=fig)\n",
        "fig.set_xlabel(\"Petal Length\")\n",
        "fig.set_ylabel(\"Petal Width\")\n",
        "fig.set_title(\" Petal Length VS Width\")\n",
        "fig=plt.gcf()\n",
        "fig.set_size_inches(10,6)\n",
        "plt.show()"
      ],
      "id": "19ec7d62",
      "execution_count": null,
      "outputs": [
        {
          "data": {
            "image/png": "[encoded data removed]",
            "text/plain": [
              "<Figure size 720x432 with 1 Axes>"
            ]
          },
          "metadata": {
            "needs_background": "light"
          },
          "output_type": "display_data"
        }
      ]
    },
    {
      "cell_type": "markdown",
      "metadata": {
        "id": "12c2b55f"
      },
      "source": [
        "As we can see that the Petal Features are giving a better cluster division compared to the Sepal features. This is an indication that the Petals can help in better and accurate Predictions over the Sepal. We will check that later."
      ],
      "id": "12c2b55f"
    },
    {
      "cell_type": "markdown",
      "metadata": {
        "id": "fe2f64e0"
      },
      "source": [
        "# Now let us see how are the length and width are distributed\n"
      ],
      "id": "fe2f64e0"
    },
    {
      "cell_type": "code",
      "metadata": {
        "id": "0957c951",
        "outputId": "dc3a24ea-3c99-4773-b262-ac07765f0b25"
      },
      "source": [
        "iris.hist(edgecolor='black', linewidth=1.2)\n",
        "fig=plt.gcf()\n",
        "fig.set_size_inches(12,6)\n",
        "plt.show()"
      ],
      "id": "0957c951",
      "execution_count": null,
      "outputs": [
        {
          "data": {
            "image/png": "[encoded data removed]",
            "text/plain": [
              "<Figure size 864x432 with 4 Axes>"
            ]
          },
          "metadata": {
            "needs_background": "light"
          },
          "output_type": "display_data"
        }
      ]
    },
    {
      "cell_type": "code",
      "metadata": {
        "id": "2c85742b",
        "outputId": "8873b0cf-1062-4c24-d8eb-55bf7beeee90"
      },
      "source": [
        "plt.figure(figsize=(15,10))\n",
        "plt.subplot(2,2,1)\n",
        "sns.violinplot(x='Species',y='PetalLengthCm',data=iris)\n",
        "plt.subplot(2,2,2)\n",
        "sns.violinplot(x='Species',y='PetalWidthCm',data=iris)\n",
        "plt.subplot(2,2,3)\n",
        "sns.violinplot(x='Species',y='SepalLengthCm',data=iris)\n",
        "plt.subplot(2,2,4)\n",
        "sns.violinplot(x='Species',y='SepalWidthCm',data=iris)"
      ],
      "id": "2c85742b",
      "execution_count": null,
      "outputs": [
        {
          "data": {
            "text/plain": [
              "<AxesSubplot:xlabel='Species', ylabel='SepalWidthCm'>"
            ]
          },
          "execution_count": 12,
          "metadata": {},
          "output_type": "execute_result"
        },
        {
          "data": {
            "image/png": "[encoded data removed]",
            "text/plain": [
              "<Figure size 1080x720 with 4 Axes>"
            ]
          },
          "metadata": {
            "needs_background": "light"
          },
          "output_type": "display_data"
        }
      ]
    },
    {
      "cell_type": "code",
      "metadata": {
        "id": "81d2a7c1"
      },
      "source": [
        "# importing alll the necessary packages to use the various classification algorithms\n",
        "from sklearn.linear_model import LogisticRegression  # for Logistic Regression algorithm\n",
        "#from sklearn.cross_validation import train_test_split #to split the dataset for training and testing\n",
        "from sklearn.neighbors import KNeighborsClassifier  # for K nearest neighbours\n",
        "from sklearn import svm  #for Support Vector Machine (SVM) Algorithm\n",
        "from sklearn import metrics #for checking the model accuracy\n",
        "from sklearn.tree import DecisionTreeClassifier #for using Decision Tree Algoithm"
      ],
      "id": "81d2a7c1",
      "execution_count": null,
      "outputs": []
    },
    {
      "cell_type": "code",
      "metadata": {
        "id": "c75192ed",
        "outputId": "62a09d78-ce95-4382-fdbd-84365f8c0b28"
      },
      "source": [
        "iris.shape"
      ],
      "id": "c75192ed",
      "execution_count": null,
      "outputs": [
        {
          "data": {
            "text/plain": [
              "(150, 5)"
            ]
          },
          "execution_count": 16,
          "metadata": {},
          "output_type": "execute_result"
        }
      ]
    },
    {
      "cell_type": "code",
      "metadata": {
        "id": "0c1c04e5",
        "outputId": "8bbc309c-7a00-411d-ba3a-762d3a953298"
      },
      "source": [
        "plt.figure(figsize=(7,4)) \n",
        "sns.heatmap(iris.corr(),annot=True,cmap='cubehelix_r') #draws  heatmap with input as the correlation matrix calculted by(iris.corr())\n",
        "plt.show()"
      ],
      "id": "0c1c04e5",
      "execution_count": null,
      "outputs": [
        {
          "data": {
            "image/png": "[encoded data removed]",
            "text/plain": [
              "<Figure size 504x288 with 2 Axes>"
            ]
          },
          "metadata": {
            "needs_background": "light"
          },
          "output_type": "display_data"
        }
      ]
    },
    {
      "cell_type": "markdown",
      "metadata": {
        "id": "62689161"
      },
      "source": [
        "Observation--->\n",
        "\n",
        "The Sepal Width and Length are not correlated The Petal Width and Length are highly correlated\n",
        "\n",
        "We will use all the features for training the algorithm and check the accuracy.\n",
        "\n",
        "Then we will use 1 Petal Feature and 1 Sepal Feature to check the accuracy of the algorithm as we are using only 2 features that are not correlated. Thus we can have a variance in the dataset which may help in better accuracy. We will check it later."
      ],
      "id": "62689161"
    },
    {
      "cell_type": "markdown",
      "metadata": {
        "id": "0de86846"
      },
      "source": [
        "# Splitting The Data into Training And Testing Dataset"
      ],
      "id": "0de86846"
    },
    {
      "cell_type": "code",
      "metadata": {
        "id": "5e7a6462",
        "outputId": "2db2bb7b-c416-48ab-ca56-4e5722a9d393"
      },
      "source": [
        "!pip install sklearn"
      ],
      "id": "5e7a6462",
      "execution_count": null,
      "outputs": [
        {
          "name": "stdout",
          "output_type": "stream",
          "text": [
            "Collecting sklearn\n",
            "  Downloading sklearn-0.0.tar.gz (1.1 kB)\n",
            "Requirement already satisfied: scikit-learn in c:\\users\\mauli\\anaconda3\\lib\\site-packages (from sklearn) (0.24.2)\n",
            "Requirement already satisfied: threadpoolctl>=2.0.0 in c:\\users\\mauli\\anaconda3\\lib\\site-packages (from scikit-learn->sklearn) (2.2.0)\n",
            "Requirement already satisfied: joblib>=0.11 in c:\\users\\mauli\\anaconda3\\lib\\site-packages (from scikit-learn->sklearn) (1.0.1)\n",
            "Requirement already satisfied: scipy>=0.19.1 in c:\\users\\mauli\\anaconda3\\lib\\site-packages (from scikit-learn->sklearn) (1.6.2)\n",
            "Requirement already satisfied: numpy>=1.13.3 in c:\\users\\mauli\\anaconda3\\lib\\site-packages (from scikit-learn->sklearn) (1.20.3)\n",
            "Building wheels for collected packages: sklearn\n",
            "  Building wheel for sklearn (setup.py): started\n",
            "  Building wheel for sklearn (setup.py): finished with status 'done'\n",
            "  Created wheel for sklearn: filename=sklearn-0.0-py2.py3-none-any.whl size=1316 sha256=2e900a54575577f15c65c13969665f56afedf6bf4bdbc9732025fe1b3e3b0eae\n",
            "  Stored in directory: c:\\users\\mauli\\appdata\\local\\pip\\cache\\wheels\\22\\0b\\40\\fd3f795caaa1fb4c6cb738bc1f56100be1e57da95849bfc897\n",
            "Successfully built sklearn\n",
            "Installing collected packages: sklearn\n",
            "Successfully installed sklearn-0.0\n"
          ]
        }
      ]
    },
    {
      "cell_type": "code",
      "metadata": {
        "id": "c05a620d"
      },
      "source": [
        "from sklearn.model_selection import train_test_split"
      ],
      "id": "c05a620d",
      "execution_count": null,
      "outputs": []
    },
    {
      "cell_type": "code",
      "metadata": {
        "id": "f1a34e01",
        "outputId": "9c736802-6fc1-4f72-c5ad-1fcb40831d90"
      },
      "source": [
        "train, test = train_test_split(iris, test_size = 0.3)# in this our main data is split into train and test\n",
        "# the attribute test_size=0.3 splits the data into 70% and 30% ratio. train=70% and test=30%\n",
        "print(train.shape)\n",
        "print(test.shape)"
      ],
      "id": "f1a34e01",
      "execution_count": null,
      "outputs": [
        {
          "name": "stdout",
          "output_type": "stream",
          "text": [
            "(105, 5)\n",
            "(45, 5)\n"
          ]
        }
      ]
    },
    {
      "cell_type": "code",
      "metadata": {
        "id": "6c487d1b"
      },
      "source": [
        "train_X = train[['SepalLengthCm','SepalWidthCm','PetalLengthCm','PetalWidthCm']]# taking the training data features\n",
        "train_y=train.Species# output of our training data\n",
        "test_X= test[['SepalLengthCm','SepalWidthCm','PetalLengthCm','PetalWidthCm']] # taking test data features\n",
        "test_y =test.Species   #output value of test data"
      ],
      "id": "6c487d1b",
      "execution_count": null,
      "outputs": []
    },
    {
      "cell_type": "code",
      "metadata": {
        "id": "6d36aee7",
        "outputId": "0d365451-12d4-430a-cf12-846c732e1dc1"
      },
      "source": [
        "train_X.head(2)"
      ],
      "id": "6d36aee7",
      "execution_count": null,
      "outputs": [
        {
          "data": {
            "text/html": [
              "<div>\n",
              "<style scoped>\n",
              "    .dataframe tbody tr th:only-of-type {\n",
              "        vertical-align: middle;\n",
              "    }\n",
              "\n",
              "    .dataframe tbody tr th {\n",
              "        vertical-align: top;\n",
              "    }\n",
              "\n",
              "    .dataframe thead th {\n",
              "        text-align: right;\n",
              "    }\n",
              "</style>\n",
              "<table border=\"1\" class=\"dataframe\">\n",
              "  <thead>\n",
              "    <tr style=\"text-align: right;\">\n",
              "      <th></th>\n",
              "      <th>SepalLengthCm</th>\n",
              "      <th>SepalWidthCm</th>\n",
              "      <th>PetalLengthCm</th>\n",
              "      <th>PetalWidthCm</th>\n",
              "    </tr>\n",
              "  </thead>\n",
              "  <tbody>\n",
              "    <tr>\n",
              "      <th>3</th>\n",
              "      <td>4.6</td>\n",
              "      <td>3.1</td>\n",
              "      <td>1.5</td>\n",
              "      <td>0.2</td>\n",
              "    </tr>\n",
              "    <tr>\n",
              "      <th>128</th>\n",
              "      <td>6.4</td>\n",
              "      <td>2.8</td>\n",
              "      <td>5.6</td>\n",
              "      <td>2.1</td>\n",
              "    </tr>\n",
              "  </tbody>\n",
              "</table>\n",
              "</div>"
            ],
            "text/plain": [
              "     SepalLengthCm  SepalWidthCm  PetalLengthCm  PetalWidthCm\n",
              "3              4.6           3.1            1.5           0.2\n",
              "128            6.4           2.8            5.6           2.1"
            ]
          },
          "execution_count": 23,
          "metadata": {},
          "output_type": "execute_result"
        }
      ]
    },
    {
      "cell_type": "code",
      "metadata": {
        "id": "7fd4610b",
        "outputId": "7a4fe755-c492-4582-fe85-9a622797e904"
      },
      "source": [
        "test_X.head(2)"
      ],
      "id": "7fd4610b",
      "execution_count": null,
      "outputs": [
        {
          "data": {
            "text/html": [
              "<div>\n",
              "<style scoped>\n",
              "    .dataframe tbody tr th:only-of-type {\n",
              "        vertical-align: middle;\n",
              "    }\n",
              "\n",
              "    .dataframe tbody tr th {\n",
              "        vertical-align: top;\n",
              "    }\n",
              "\n",
              "    .dataframe thead th {\n",
              "        text-align: right;\n",
              "    }\n",
              "</style>\n",
              "<table border=\"1\" class=\"dataframe\">\n",
              "  <thead>\n",
              "    <tr style=\"text-align: right;\">\n",
              "      <th></th>\n",
              "      <th>SepalLengthCm</th>\n",
              "      <th>SepalWidthCm</th>\n",
              "      <th>PetalLengthCm</th>\n",
              "      <th>PetalWidthCm</th>\n",
              "    </tr>\n",
              "  </thead>\n",
              "  <tbody>\n",
              "    <tr>\n",
              "      <th>34</th>\n",
              "      <td>4.9</td>\n",
              "      <td>3.1</td>\n",
              "      <td>1.5</td>\n",
              "      <td>0.1</td>\n",
              "    </tr>\n",
              "    <tr>\n",
              "      <th>9</th>\n",
              "      <td>4.9</td>\n",
              "      <td>3.1</td>\n",
              "      <td>1.5</td>\n",
              "      <td>0.1</td>\n",
              "    </tr>\n",
              "  </tbody>\n",
              "</table>\n",
              "</div>"
            ],
            "text/plain": [
              "    SepalLengthCm  SepalWidthCm  PetalLengthCm  PetalWidthCm\n",
              "34            4.9           3.1            1.5           0.1\n",
              "9             4.9           3.1            1.5           0.1"
            ]
          },
          "execution_count": 24,
          "metadata": {},
          "output_type": "execute_result"
        }
      ]
    },
    {
      "cell_type": "code",
      "metadata": {
        "id": "b491b7eb",
        "outputId": "493c659e-0f02-450c-eb8f-42ba339bd4d2"
      },
      "source": [
        "train_y.head() "
      ],
      "id": "b491b7eb",
      "execution_count": null,
      "outputs": [
        {
          "data": {
            "text/plain": [
              "3          Iris-setosa\n",
              "128     Iris-virginica\n",
              "47         Iris-setosa\n",
              "44         Iris-setosa\n",
              "73     Iris-versicolor\n",
              "Name: Species, dtype: object"
            ]
          },
          "execution_count": 25,
          "metadata": {},
          "output_type": "execute_result"
        }
      ]
    },
    {
      "cell_type": "markdown",
      "metadata": {
        "id": "c384871b"
      },
      "source": [
        "# Support Vector Machine (SVM)"
      ],
      "id": "c384871b"
    },
    {
      "cell_type": "code",
      "metadata": {
        "id": "4ede8213",
        "outputId": "7144afcf-e14c-4b01-8e33-eaf58149c3eb"
      },
      "source": [
        "model = svm.SVC() #select the algorithm\n",
        "model.fit(train_X,train_y) # we train the algorithm with the training data and the training output\n",
        "prediction=model.predict(test_X) #now we pass the testing data to the trained algorithm\n",
        "print('The accuracy of the SVM is:',metrics.accuracy_score(prediction,test_y))#now we check the accuracy of the algorithm. \n",
        "#we pass the predicted output by the model and the actual output"
      ],
      "id": "4ede8213",
      "execution_count": null,
      "outputs": [
        {
          "name": "stdout",
          "output_type": "stream",
          "text": [
            "The accuracy of the SVM is: 0.9555555555555556\n"
          ]
        }
      ]
    },
    {
      "cell_type": "markdown",
      "metadata": {
        "id": "018a05bc"
      },
      "source": [
        "Logistic Regression"
      ],
      "id": "018a05bc"
    },
    {
      "cell_type": "code",
      "metadata": {
        "id": "99dd4e8d"
      },
      "source": [
        "import warnings\n",
        "warnings.filterwarnings('ignore')"
      ],
      "id": "99dd4e8d",
      "execution_count": null,
      "outputs": []
    },
    {
      "cell_type": "code",
      "metadata": {
        "id": "ee3a647e",
        "outputId": "e8eb697c-2198-4e17-e716-f55f4526d3ee"
      },
      "source": [
        "\n",
        "model = LogisticRegression()\n",
        "model.fit(train_X,train_y)\n",
        "prediction=model.predict(test_X)\n",
        "print('The accuracy of the Logistic Regression is',metrics.accuracy_score(prediction,test_y))"
      ],
      "id": "ee3a647e",
      "execution_count": null,
      "outputs": [
        {
          "name": "stdout",
          "output_type": "stream",
          "text": [
            "The accuracy of the Logistic Regression is 0.9777777777777777\n"
          ]
        }
      ]
    },
    {
      "cell_type": "markdown",
      "metadata": {
        "id": "6bfaf8a9"
      },
      "source": [
        "# K-Nearest Neighbours"
      ],
      "id": "6bfaf8a9"
    },
    {
      "cell_type": "code",
      "metadata": {
        "id": "7b48de63",
        "outputId": "2b01ecab-3c50-4c81-95b2-5eccb015c266"
      },
      "source": [
        "model=KNeighborsClassifier(n_neighbors=3) #this examines 3 neighbours for putting the new data into a class\n",
        "model.fit(train_X,train_y)\n",
        "prediction=model.predict(test_X)\n",
        "print('The accuracy of the KNN is',metrics.accuracy_score(prediction,test_y))"
      ],
      "id": "7b48de63",
      "execution_count": null,
      "outputs": [
        {
          "name": "stdout",
          "output_type": "stream",
          "text": [
            "The accuracy of the KNN is 0.9555555555555556\n"
          ]
        }
      ]
    },
    {
      "cell_type": "code",
      "metadata": {
        "id": "23a4427c",
        "outputId": "3bec4d6c-d6d1-44cd-8470-199dfb71f8c0"
      },
      "source": [
        "a_index=list(range(1,11))\n",
        "a=pd.Series()\n",
        "x=[1,2,3,4,5,6,7,8,9,10]\n",
        "for i in list(range(1,11)):\n",
        "    model=KNeighborsClassifier(n_neighbors=i) \n",
        "    model.fit(train_X,train_y)\n",
        "    prediction=model.predict(test_X)\n",
        "    a=a.append(pd.Series(metrics.accuracy_score(prediction,test_y)))\n",
        "plt.plot(a_index, a)\n",
        "plt.xticks(x)"
      ],
      "id": "23a4427c",
      "execution_count": null,
      "outputs": [
        {
          "data": {
            "text/plain": [
              "([<matplotlib.axis.XTick at 0x230306ecdf0>,\n",
              "  <matplotlib.axis.XTick at 0x23030768520>,\n",
              "  <matplotlib.axis.XTick at 0x23030761160>,\n",
              "  <matplotlib.axis.XTick at 0x23030793700>,\n",
              "  <matplotlib.axis.XTick at 0x23030793e50>,\n",
              "  <matplotlib.axis.XTick at 0x2303079c5e0>,\n",
              "  <matplotlib.axis.XTick at 0x2303079cd30>,\n",
              "  <matplotlib.axis.XTick at 0x230307a24c0>,\n",
              "  <matplotlib.axis.XTick at 0x2303079cd90>,\n",
              "  <matplotlib.axis.XTick at 0x23030793b50>],\n",
              " [Text(0, 0, ''),\n",
              "  Text(0, 0, ''),\n",
              "  Text(0, 0, ''),\n",
              "  Text(0, 0, ''),\n",
              "  Text(0, 0, ''),\n",
              "  Text(0, 0, ''),\n",
              "  Text(0, 0, ''),\n",
              "  Text(0, 0, ''),\n",
              "  Text(0, 0, ''),\n",
              "  Text(0, 0, '')])"
            ]
          },
          "execution_count": 32,
          "metadata": {},
          "output_type": "execute_result"
        },
        {
          "data": {
            "image/png": "[encoded data removed]",
            "text/plain": [
              "<Figure size 432x288 with 1 Axes>"
            ]
          },
          "metadata": {
            "needs_background": "light"
          },
          "output_type": "display_data"
        }
      ]
    },
    {
      "cell_type": "markdown",
      "metadata": {
        "id": "bd871672"
      },
      "source": [
        "# Creating Petals And Sepals Training Data"
      ],
      "id": "bd871672"
    },
    {
      "cell_type": "code",
      "metadata": {
        "id": "3837f107"
      },
      "source": [
        "petal=iris[['PetalLengthCm','PetalWidthCm','Species']]\n",
        "sepal=iris[['SepalLengthCm','SepalWidthCm','Species']]"
      ],
      "id": "3837f107",
      "execution_count": null,
      "outputs": []
    },
    {
      "cell_type": "code",
      "metadata": {
        "id": "4aefda4f"
      },
      "source": [
        "train_p,test_p=train_test_split(petal,test_size=0.3,random_state=0)  #petals\n",
        "train_x_p=train_p[['PetalWidthCm','PetalLengthCm']]\n",
        "train_y_p=train_p.Species\n",
        "test_x_p=test_p[['PetalWidthCm','PetalLengthCm']]\n",
        "test_y_p=test_p.Species\n",
        "\n",
        "\n",
        "train_s,test_s=train_test_split(sepal,test_size=0.3,random_state=0)  #Sepal\n",
        "train_x_s=train_s[['SepalWidthCm','SepalLengthCm']]\n",
        "train_y_s=train_s.Species\n",
        "test_x_s=test_s[['SepalWidthCm','SepalLengthCm']]\n",
        "test_y_s=test_s.Species"
      ],
      "id": "4aefda4f",
      "execution_count": null,
      "outputs": []
    },
    {
      "cell_type": "markdown",
      "metadata": {
        "id": "cb99b772"
      },
      "source": [
        "SVM"
      ],
      "id": "cb99b772"
    },
    {
      "cell_type": "code",
      "metadata": {
        "id": "97e278c5",
        "outputId": "77fd3bbe-a704-4762-fcb0-c950e509dcfd"
      },
      "source": [
        "model=svm.SVC()\n",
        "model.fit(train_x_p,train_y_p) \n",
        "prediction=model.predict(test_x_p) \n",
        "print('The accuracy of the SVM using Petals is:',metrics.accuracy_score(prediction,test_y_p))\n",
        "\n",
        "model=svm.SVC()\n",
        "model.fit(train_x_s,train_y_s) \n",
        "prediction=model.predict(test_x_s) \n",
        "print('The accuracy of the SVM using Sepal is:',metrics.accuracy_score(prediction,test_y_s))"
      ],
      "id": "97e278c5",
      "execution_count": null,
      "outputs": [
        {
          "name": "stdout",
          "output_type": "stream",
          "text": [
            "The accuracy of the SVM using Petals is: 0.9777777777777777\n",
            "The accuracy of the SVM using Sepal is: 0.8\n"
          ]
        }
      ]
    },
    {
      "cell_type": "markdown",
      "metadata": {
        "id": "21723fd9"
      },
      "source": [
        "Logistic Regression"
      ],
      "id": "21723fd9"
    },
    {
      "cell_type": "code",
      "metadata": {
        "id": "ed765110",
        "outputId": "5613ea22-1f2d-4485-85d5-e4ff320a2329"
      },
      "source": [
        "model = LogisticRegression()\n",
        "model.fit(train_x_p,train_y_p) \n",
        "prediction=model.predict(test_x_p) \n",
        "print('The accuracy of the Logistic Regression using Petals is:',metrics.accuracy_score(prediction,test_y_p))\n",
        "\n",
        "model.fit(train_x_s,train_y_s) \n",
        "prediction=model.predict(test_x_s) \n",
        "print('The accuracy of the Logistic Regression using Sepals is:',metrics.accuracy_score(prediction,test_y_s))"
      ],
      "id": "ed765110",
      "execution_count": null,
      "outputs": [
        {
          "name": "stdout",
          "output_type": "stream",
          "text": [
            "The accuracy of the Logistic Regression using Petals is: 0.9777777777777777\n",
            "The accuracy of the Logistic Regression using Sepals is: 0.8222222222222222\n"
          ]
        }
      ]
    },
    {
      "cell_type": "markdown",
      "metadata": {
        "id": "f66b967f"
      },
      "source": [
        "Decision Tree"
      ],
      "id": "f66b967f"
    },
    {
      "cell_type": "code",
      "metadata": {
        "id": "6471cdfa",
        "outputId": "70a48bfc-9910-48c8-fa88-6ab6af2138e4"
      },
      "source": [
        "model=DecisionTreeClassifier()\n",
        "model.fit(train_x_p,train_y_p) \n",
        "prediction=model.predict(test_x_p) \n",
        "print('The accuracy of the Decision Tree using Petals is:',metrics.accuracy_score(prediction,test_y_p))\n",
        "\n",
        "model.fit(train_x_s,train_y_s) \n",
        "prediction=model.predict(test_x_s) \n",
        "print('The accuracy of the Decision Tree using Sepals is:',metrics.accuracy_score(prediction,test_y_s))"
      ],
      "id": "6471cdfa",
      "execution_count": null,
      "outputs": [
        {
          "name": "stdout",
          "output_type": "stream",
          "text": [
            "The accuracy of the Decision Tree using Petals is: 0.9555555555555556\n",
            "The accuracy of the Decision Tree using Sepals is: 0.6666666666666666\n"
          ]
        }
      ]
    },
    {
      "cell_type": "markdown",
      "metadata": {
        "id": "c526a524"
      },
      "source": [
        "K-Nearest Neighbours"
      ],
      "id": "c526a524"
    },
    {
      "cell_type": "code",
      "metadata": {
        "id": "f89fcac6",
        "outputId": "16442490-d63b-4ffe-d58b-54ffe6502d3a"
      },
      "source": [
        "model=KNeighborsClassifier(n_neighbors=3) \n",
        "model.fit(train_x_p,train_y_p) \n",
        "prediction=model.predict(test_x_p) \n",
        "print('The accuracy of the KNN using Petals is:',metrics.accuracy_score(prediction,test_y_p))\n",
        "\n",
        "model.fit(train_x_s,train_y_s) \n",
        "prediction=model.predict(test_x_s) \n",
        "print('The accuracy of the KNN using Sepals is:',metrics.accuracy_score(prediction,test_y_s))"
      ],
      "id": "f89fcac6",
      "execution_count": null,
      "outputs": [
        {
          "name": "stdout",
          "output_type": "stream",
          "text": [
            "The accuracy of the KNN using Petals is: 0.9777777777777777\n",
            "The accuracy of the KNN using Sepals is: 0.7333333333333333\n"
          ]
        }
      ]
    },
    {
      "cell_type": "markdown",
      "metadata": {
        "id": "a467cd2b"
      },
      "source": [
        "Observations:\n",
        "Using Petals over Sepal for training the data gives a much better accuracy.\n",
        "This was expected as we saw in the heatmap above that the correlation between the Sepal Width and Length was very low whereas the correlation between Petal Width and Length was very high."
      ],
      "id": "a467cd2b"
    },
    {
      "cell_type": "code",
      "metadata": {
        "id": "9d1b5467"
      },
      "source": [
        ""
      ],
      "id": "9d1b5467",
      "execution_count": null,
      "outputs": []
    }
  ]
}