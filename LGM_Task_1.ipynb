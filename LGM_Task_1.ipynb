{
  "nbformat": 4,
  "nbformat_minor": 5,
  "metadata": {
    "kernelspec": {
      "display_name": "Python 3",
      "language": "python",
      "name": "python3"
    },
    "language_info": {
      "codemirror_mode": {
        "name": "ipython",
        "version": 3
      },
      "file_extension": ".py",
      "mimetype": "text/x-python",
      "name": "python",
      "nbconvert_exporter": "python",
      "pygments_lexer": "ipython3",
      "version": "3.8.8"
    },
    "colab": {
      "name": "LGM_Task_1.ipynb",
      "provenance": [],
      "include_colab_link": true
    }
  },
  "cells": [
    {
      "cell_type": "markdown",
      "metadata": {
        "id": "view-in-github",
        "colab_type": "text"
      },
      "source": [
        "<a href=\"https://colab.research.google.com/github/Naveenmayur/Naveen/blob/main/LGM_Task_1.ipynb\" target=\"_parent\"><img src=\"https://colab.research.google.com/assets/colab-badge.svg\" alt=\"Open In Colab\"/></a>"
      ]
    },
    {
      "cell_type": "markdown",
      "metadata": {
        "id": "12b8a50e"
      },
      "source": [
        "<B>LET'S GROW MORE : DATA SCIENCE VIRTUAL INTERNSHIP PROGRAM"
      ],
      "id": "12b8a50e"
    },
    {
      "cell_type": "markdown",
      "metadata": {
        "id": "8459257a"
      },
      "source": [
        "<b>BATCH : OCTOBER 2021"
      ],
      "id": "8459257a"
    },
    {
      "cell_type": "markdown",
      "metadata": {
        "id": "0b20bea0"
      },
      "source": [
        "<B>AUTHOR : Naveen Mayur KR\n",
        "    "
      ],
      "id": "0b20bea0"
    },
    {
      "cell_type": "markdown",
      "metadata": {
        "id": "54b194d3"
      },
      "source": [
        "<B>TASK 01 : Iris Flowers Classification ML Project"
      ],
      "id": "54b194d3"
    },
    {
      "cell_type": "markdown",
      "metadata": {
        "id": "65011def"
      },
      "source": [
        "<b>IMPORTING THE REQUIRED LIBRARIES"
      ],
      "id": "65011def"
    },
    {
      "cell_type": "code",
      "metadata": {
        "id": "cfb9d315"
      },
      "source": [
        "import numpy as np\n",
        "import pandas as pd\n",
        "import matplotlib.pyplot as plt\n",
        "import seaborn as sns\n",
        "import warnings\n",
        "warnings.filterwarnings(\"ignore\")\n",
        "\n",
        "from sklearn.model_selection import train_test_split\n",
        "from sklearn.preprocessing import StandardScaler\n",
        "from sklearn.tree import DecisionTreeClassifier\n",
        "from sklearn.metrics import confusion_matrix\n",
        "from sklearn.neighbors import KNeighborsClassifier\n",
        "from sklearn.linear_model import LogisticRegression"
      ],
      "id": "cfb9d315",
      "execution_count": null,
      "outputs": []
    },
    {
      "cell_type": "markdown",
      "metadata": {
        "id": "db88229d"
      },
      "source": [
        "<B>LOADING,READING AND ANALYZING THE DATASET"
      ],
      "id": "db88229d"
    },
    {
      "cell_type": "code",
      "metadata": {
        "colab": {
          "base_uri": "https://localhost:8080/",
          "height": 197
        },
        "id": "1d09bfad",
        "outputId": "8dee0ed9-27ee-4e38-cb29-30c1c3699559"
      },
      "source": [
        "df = pd.read_csv(\"C:\\\\Users\\\\Kashyap KGS\\\\Downloads\\\\Iris.csv\")\n",
        "df=df.drop(['Id'],axis=1)\n",
        "df.head()"
      ],
      "id": "1d09bfad",
      "execution_count": null,
      "outputs": [
        {
          "output_type": "error",
          "ename": "NameError",
          "evalue": "ignored",
          "traceback": [
            "\u001b[0;31m---------------------------------------------------------------------------\u001b[0m",
            "\u001b[0;31mNameError\u001b[0m                                 Traceback (most recent call last)",
            "\u001b[0;32m<ipython-input-2-8ea19530b37c>\u001b[0m in \u001b[0;36m<module>\u001b[0;34m()\u001b[0m\n\u001b[0;32m----> 1\u001b[0;31m \u001b[0mdf\u001b[0m \u001b[0;34m=\u001b[0m \u001b[0mpd\u001b[0m\u001b[0;34m.\u001b[0m\u001b[0mread_csv\u001b[0m\u001b[0;34m(\u001b[0m\u001b[0;34m\"C:\\\\Users\\\\Kashyap KGS\\\\Downloads\\\\Iris.csv\"\u001b[0m\u001b[0;34m)\u001b[0m\u001b[0;34m\u001b[0m\u001b[0;34m\u001b[0m\u001b[0m\n\u001b[0m\u001b[1;32m      2\u001b[0m \u001b[0mdf\u001b[0m\u001b[0;34m=\u001b[0m\u001b[0mdf\u001b[0m\u001b[0;34m.\u001b[0m\u001b[0mdrop\u001b[0m\u001b[0;34m(\u001b[0m\u001b[0;34m[\u001b[0m\u001b[0;34m'Id'\u001b[0m\u001b[0;34m]\u001b[0m\u001b[0;34m,\u001b[0m\u001b[0maxis\u001b[0m\u001b[0;34m=\u001b[0m\u001b[0;36m1\u001b[0m\u001b[0;34m)\u001b[0m\u001b[0;34m\u001b[0m\u001b[0;34m\u001b[0m\u001b[0m\n\u001b[1;32m      3\u001b[0m \u001b[0mdf\u001b[0m\u001b[0;34m.\u001b[0m\u001b[0mhead\u001b[0m\u001b[0;34m(\u001b[0m\u001b[0;34m)\u001b[0m\u001b[0;34m\u001b[0m\u001b[0;34m\u001b[0m\u001b[0m\n",
            "\u001b[0;31mNameError\u001b[0m: name 'pd' is not defined"
          ]
        }
      ]
    },
    {
      "cell_type": "markdown",
      "metadata": {
        "id": "ca6c36b1"
      },
      "source": [
        "<B>FEATURE EXPLORATION"
      ],
      "id": "ca6c36b1"
    },
    {
      "cell_type": "code",
      "metadata": {
        "id": "ec0d3141",
        "outputId": "51ef31e8-f36e-48af-af1a-8ad03d70b227"
      },
      "source": [
        "df.shape"
      ],
      "id": "ec0d3141",
      "execution_count": null,
      "outputs": [
        {
          "data": {
            "text/plain": [
              "(150, 5)"
            ]
          },
          "execution_count": 3,
          "metadata": {},
          "output_type": "execute_result"
        }
      ]
    },
    {
      "cell_type": "code",
      "metadata": {
        "id": "2a6c294f",
        "outputId": "fb507c6c-d64d-4253-9e1b-ccf411b9050c"
      },
      "source": [
        "df.info()"
      ],
      "id": "2a6c294f",
      "execution_count": null,
      "outputs": [
        {
          "name": "stdout",
          "output_type": "stream",
          "text": [
            "<class 'pandas.core.frame.DataFrame'>\n",
            "RangeIndex: 150 entries, 0 to 149\n",
            "Data columns (total 5 columns):\n",
            " #   Column         Non-Null Count  Dtype  \n",
            "---  ------         --------------  -----  \n",
            " 0   SepalLengthCm  150 non-null    float64\n",
            " 1   SepalWidthCm   150 non-null    float64\n",
            " 2   PetalLengthCm  150 non-null    float64\n",
            " 3   PetalWidthCm   150 non-null    float64\n",
            " 4   Species        150 non-null    object \n",
            "dtypes: float64(4), object(1)\n",
            "memory usage: 6.0+ KB\n"
          ]
        }
      ]
    },
    {
      "cell_type": "code",
      "metadata": {
        "id": "1cbcbbc9",
        "outputId": "28462365-4ae5-47d4-9252-c960a4d45583"
      },
      "source": [
        "df.describe()"
      ],
      "id": "1cbcbbc9",
      "execution_count": null,
      "outputs": [
        {
          "data": {
            "text/html": [
              "<div>\n",
              "<style scoped>\n",
              "    .dataframe tbody tr th:only-of-type {\n",
              "        vertical-align: middle;\n",
              "    }\n",
              "\n",
              "    .dataframe tbody tr th {\n",
              "        vertical-align: top;\n",
              "    }\n",
              "\n",
              "    .dataframe thead th {\n",
              "        text-align: right;\n",
              "    }\n",
              "</style>\n",
              "<table border=\"1\" class=\"dataframe\">\n",
              "  <thead>\n",
              "    <tr style=\"text-align: right;\">\n",
              "      <th></th>\n",
              "      <th>SepalLengthCm</th>\n",
              "      <th>SepalWidthCm</th>\n",
              "      <th>PetalLengthCm</th>\n",
              "      <th>PetalWidthCm</th>\n",
              "    </tr>\n",
              "  </thead>\n",
              "  <tbody>\n",
              "    <tr>\n",
              "      <th>count</th>\n",
              "      <td>150.000000</td>\n",
              "      <td>150.000000</td>\n",
              "      <td>150.000000</td>\n",
              "      <td>150.000000</td>\n",
              "    </tr>\n",
              "    <tr>\n",
              "      <th>mean</th>\n",
              "      <td>5.843333</td>\n",
              "      <td>3.054000</td>\n",
              "      <td>3.758667</td>\n",
              "      <td>1.198667</td>\n",
              "    </tr>\n",
              "    <tr>\n",
              "      <th>std</th>\n",
              "      <td>0.828066</td>\n",
              "      <td>0.433594</td>\n",
              "      <td>1.764420</td>\n",
              "      <td>0.763161</td>\n",
              "    </tr>\n",
              "    <tr>\n",
              "      <th>min</th>\n",
              "      <td>4.300000</td>\n",
              "      <td>2.000000</td>\n",
              "      <td>1.000000</td>\n",
              "      <td>0.100000</td>\n",
              "    </tr>\n",
              "    <tr>\n",
              "      <th>25%</th>\n",
              "      <td>5.100000</td>\n",
              "      <td>2.800000</td>\n",
              "      <td>1.600000</td>\n",
              "      <td>0.300000</td>\n",
              "    </tr>\n",
              "    <tr>\n",
              "      <th>50%</th>\n",
              "      <td>5.800000</td>\n",
              "      <td>3.000000</td>\n",
              "      <td>4.350000</td>\n",
              "      <td>1.300000</td>\n",
              "    </tr>\n",
              "    <tr>\n",
              "      <th>75%</th>\n",
              "      <td>6.400000</td>\n",
              "      <td>3.300000</td>\n",
              "      <td>5.100000</td>\n",
              "      <td>1.800000</td>\n",
              "    </tr>\n",
              "    <tr>\n",
              "      <th>max</th>\n",
              "      <td>7.900000</td>\n",
              "      <td>4.400000</td>\n",
              "      <td>6.900000</td>\n",
              "      <td>2.500000</td>\n",
              "    </tr>\n",
              "  </tbody>\n",
              "</table>\n",
              "</div>"
            ],
            "text/plain": [
              "       SepalLengthCm  SepalWidthCm  PetalLengthCm  PetalWidthCm\n",
              "count     150.000000    150.000000     150.000000    150.000000\n",
              "mean        5.843333      3.054000       3.758667      1.198667\n",
              "std         0.828066      0.433594       1.764420      0.763161\n",
              "min         4.300000      2.000000       1.000000      0.100000\n",
              "25%         5.100000      2.800000       1.600000      0.300000\n",
              "50%         5.800000      3.000000       4.350000      1.300000\n",
              "75%         6.400000      3.300000       5.100000      1.800000\n",
              "max         7.900000      4.400000       6.900000      2.500000"
            ]
          },
          "execution_count": 5,
          "metadata": {},
          "output_type": "execute_result"
        }
      ]
    },
    {
      "cell_type": "markdown",
      "metadata": {
        "id": "ddbccd64"
      },
      "source": [
        "<b> DATA VISUALIZATION"
      ],
      "id": "ddbccd64"
    },
    {
      "cell_type": "code",
      "metadata": {
        "id": "7bfa31bd"
      },
      "source": [
        "X=df.iloc[:,:-1]\n",
        "Y=df['Species']"
      ],
      "id": "7bfa31bd",
      "execution_count": null,
      "outputs": []
    },
    {
      "cell_type": "code",
      "metadata": {
        "id": "10eec52a"
      },
      "source": [
        "X_train,X_test,Y_train,Y_test=train_test_split(X,Y,test_size=0.2,random_state=5)"
      ],
      "id": "10eec52a",
      "execution_count": null,
      "outputs": []
    },
    {
      "cell_type": "code",
      "metadata": {
        "id": "4036ead9"
      },
      "source": [
        "sc = StandardScaler()\n",
        "X_train = sc.fit_transform(X_train)\n",
        "X_test = sc.transform(X_test)"
      ],
      "id": "4036ead9",
      "execution_count": null,
      "outputs": []
    },
    {
      "cell_type": "code",
      "metadata": {
        "id": "fe3ad71a",
        "outputId": "cae1a23a-711f-4937-80c4-39f6f4939743"
      },
      "source": [
        "dt=DecisionTreeClassifier()\n",
        "dt.fit(X_train,Y_train)"
      ],
      "id": "fe3ad71a",
      "execution_count": null,
      "outputs": [
        {
          "data": {
            "text/plain": [
              "DecisionTreeClassifier()"
            ]
          },
          "execution_count": 9,
          "metadata": {},
          "output_type": "execute_result"
        }
      ]
    },
    {
      "cell_type": "code",
      "metadata": {
        "id": "0be339b3",
        "outputId": "c6b8541c-cb51-4d24-f70d-3cb6ccc500c2"
      },
      "source": [
        "Y_pred = dt.predict(X_test)\n",
        "dt.score(X_test,Y_test)"
      ],
      "id": "0be339b3",
      "execution_count": null,
      "outputs": [
        {
          "data": {
            "text/plain": [
              "0.9333333333333333"
            ]
          },
          "execution_count": 10,
          "metadata": {},
          "output_type": "execute_result"
        }
      ]
    },
    {
      "cell_type": "code",
      "metadata": {
        "id": "8e8fa35d",
        "outputId": "1b52f3a7-5332-4f57-8242-55b2603873a8"
      },
      "source": [
        "cm=confusion_matrix(Y_pred,Y_test)\n",
        "print(cm)"
      ],
      "id": "8e8fa35d",
      "execution_count": null,
      "outputs": [
        {
          "name": "stdout",
          "output_type": "stream",
          "text": [
            "[[ 8  0  0]\n",
            " [ 0  9  0]\n",
            " [ 0  2 11]]\n"
          ]
        }
      ]
    },
    {
      "cell_type": "code",
      "metadata": {
        "id": "c5a27b49",
        "outputId": "548b0959-f4af-41c4-f4a3-7921b4807700"
      },
      "source": [
        "dt=KNeighborsClassifier(n_neighbors=2)\n",
        "dt.fit(X_train,Y_train)"
      ],
      "id": "c5a27b49",
      "execution_count": null,
      "outputs": [
        {
          "data": {
            "text/plain": [
              "KNeighborsClassifier(n_neighbors=2)"
            ]
          },
          "execution_count": 12,
          "metadata": {},
          "output_type": "execute_result"
        }
      ]
    },
    {
      "cell_type": "code",
      "metadata": {
        "id": "b23dbb58",
        "outputId": "36c4ff5c-000d-499c-da32-dc50e5a74c73"
      },
      "source": [
        "Y_pred = dt.predict(X_test)\n",
        "dt.score(X_test,Y_test)"
      ],
      "id": "b23dbb58",
      "execution_count": null,
      "outputs": [
        {
          "data": {
            "text/plain": [
              "0.9"
            ]
          },
          "execution_count": 13,
          "metadata": {},
          "output_type": "execute_result"
        }
      ]
    },
    {
      "cell_type": "code",
      "metadata": {
        "id": "2215a9f9",
        "outputId": "35864ba8-1b66-4900-d8bb-af73bb440259"
      },
      "source": [
        "cm=confusion_matrix(Y_pred,Y_test)\n",
        "print(cm)"
      ],
      "id": "2215a9f9",
      "execution_count": null,
      "outputs": [
        {
          "name": "stdout",
          "output_type": "stream",
          "text": [
            "[[ 8  0  0]\n",
            " [ 0 10  2]\n",
            " [ 0  1  9]]\n"
          ]
        }
      ]
    },
    {
      "cell_type": "code",
      "metadata": {
        "id": "2629ea80",
        "outputId": "25ac79ac-7e1a-4616-c232-138739bb836e"
      },
      "source": [
        "dt= LogisticRegression()\n",
        "dt.fit(X_train, Y_train)"
      ],
      "id": "2629ea80",
      "execution_count": null,
      "outputs": [
        {
          "data": {
            "text/plain": [
              "LogisticRegression()"
            ]
          },
          "execution_count": 15,
          "metadata": {},
          "output_type": "execute_result"
        }
      ]
    },
    {
      "cell_type": "code",
      "metadata": {
        "id": "68ad8329",
        "outputId": "9032f7e8-2690-45eb-a385-20ac51f27b91"
      },
      "source": [
        "Y_pred = dt.predict(X_test)\n",
        "dt.score(X_test,Y_test)"
      ],
      "id": "68ad8329",
      "execution_count": null,
      "outputs": [
        {
          "data": {
            "text/plain": [
              "0.9"
            ]
          },
          "execution_count": 16,
          "metadata": {},
          "output_type": "execute_result"
        }
      ]
    },
    {
      "cell_type": "code",
      "metadata": {
        "id": "ef12e0e6",
        "outputId": "46c3f746-3c10-4996-bba9-50b76841c653"
      },
      "source": [
        "cm=confusion_matrix(Y_pred,Y_test)\n",
        "print(cm)"
      ],
      "id": "ef12e0e6",
      "execution_count": null,
      "outputs": [
        {
          "name": "stdout",
          "output_type": "stream",
          "text": [
            "[[ 8  0  0]\n",
            " [ 0 10  2]\n",
            " [ 0  1  9]]\n"
          ]
        }
      ]
    },
    {
      "cell_type": "markdown",
      "metadata": {
        "id": "64816c90"
      },
      "source": [
        "<B>GRAPHICAL REPRESENTATION"
      ],
      "id": "64816c90"
    },
    {
      "cell_type": "code",
      "metadata": {
        "id": "9712bb60",
        "outputId": "a3ed00b0-5587-431a-ac3b-cfd6ff11f846"
      },
      "source": [
        "fig = df[df.Species == 'Iris-setosa'].plot(kind='scatter', x='SepalLengthCm', y='SepalWidthCm', color='red', label='Setosa')\n",
        "df[df.Species == 'Iris-versicolor'].plot(kind='scatter', x='SepalLengthCm', y='SepalWidthCm', color='black', label='Versicolor', ax=fig)\n",
        "df[df.Species == 'Iris-virginica'].plot(kind='scatter', x='SepalLengthCm', y='SepalWidthCm', color='yellow', label='Virginica', ax=fig)\n",
        "\n",
        "fig.set_xlabel('Sepal Length')\n",
        "fig.set_ylabel('Sepal Width')\n",
        "fig.set_title('Sepal Length Vs Width')\n",
        "\n",
        "fig=plt.gcf()\n",
        "fig.set_size_inches(10, 7)\n",
        "plt.show()"
      ],
      "id": "9712bb60",
      "execution_count": null,
      "outputs": [
        {
          "data": {
            "image/png": "[encoded data removed]",
            "text/plain": [
              "<Figure size 720x504 with 1 Axes>"
            ]
          },
          "metadata": {
            "needs_background": "light"
          },
          "output_type": "display_data"
        }
      ]
    },
    {
      "cell_type": "code",
      "metadata": {
        "id": "0199c350",
        "outputId": "1c10c9a7-88ac-4ef1-bac4-c989b32f9aca"
      },
      "source": [
        "sns.FacetGrid(df, hue='Species', size=5)\\\n",
        "   .map(plt.scatter, 'SepalLengthCm', 'SepalWidthCm')\\\n",
        "   .add_legend()"
      ],
      "id": "0199c350",
      "execution_count": null,
      "outputs": [
        {
          "data": {
            "text/plain": [
              "<seaborn.axisgrid.FacetGrid at 0x25f2788cb20>"
            ]
          },
          "execution_count": 19,
          "metadata": {},
          "output_type": "execute_result"
        },
        {
          "data": {
            "image/png": "[encoded data removed]",
            "text/plain": [
              "<Figure size 463.25x360 with 1 Axes>"
            ]
          },
          "metadata": {
            "needs_background": "light"
          },
          "output_type": "display_data"
        }
      ]
    },
    {
      "cell_type": "code",
      "metadata": {
        "id": "d34b052e",
        "outputId": "a6bc1239-c48a-4444-e2e9-dcdbf07fa3bc"
      },
      "source": [
        "fig = df[df.Species == 'Iris-setosa'].plot(kind='scatter', x='PetalLengthCm', y='PetalWidthCm', color='purple', label='Setosa')\n",
        "df[df.Species == 'Iris-versicolor'].plot(kind='scatter', x='PetalLengthCm', y='PetalWidthCm', color='red', label='Versicolor', ax=fig)\n",
        "df[df.Species == 'Iris-virginica'].plot(kind='scatter', x='PetalLengthCm', y='PetalWidthCm', color='grey', label='Virginica', ax=fig)\n",
        "\n",
        "fig.set_xlabel('Petal Length')\n",
        "fig.set_ylabel('Petal Width')\n",
        "fig.set_title('Petal Length Vs Width')\n",
        "\n",
        "fig=plt.gcf()\n",
        "fig.set_size_inches(10, 7)\n",
        "plt.show()"
      ],
      "id": "d34b052e",
      "execution_count": null,
      "outputs": [
        {
          "data": {
            "image/png": "[encoded data removed]",
            "text/plain": [
              "<Figure size 720x504 with 1 Axes>"
            ]
          },
          "metadata": {
            "needs_background": "light"
          },
          "output_type": "display_data"
        }
      ]
    },
    {
      "cell_type": "markdown",
      "metadata": {
        "id": "cf36a593"
      },
      "source": [
        "<B> CONCLUSION"
      ],
      "id": "cf36a593"
    },
    {
      "cell_type": "markdown",
      "metadata": {
        "id": "785cbe3c"
      },
      "source": [
        "1.The particular dataset consists of 150 observations and 5 rows."
      ],
      "id": "785cbe3c"
    },
    {
      "cell_type": "markdown",
      "metadata": {
        "id": "1d9cf2f9"
      },
      "source": [
        "2.A decision tree classifier,KNeighborsClassifier and Logistic Regression has been formed and for all these parameters separate confusion matrices are created."
      ],
      "id": "1d9cf2f9"
    },
    {
      "cell_type": "markdown",
      "metadata": {
        "id": "6bfc3994"
      },
      "source": [
        "3.Three graphically representations have been ploted for the iris dataset."
      ],
      "id": "6bfc3994"
    }
  ]
}